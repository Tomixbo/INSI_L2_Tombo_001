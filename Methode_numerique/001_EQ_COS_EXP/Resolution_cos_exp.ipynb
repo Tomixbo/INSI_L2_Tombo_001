{
 "cells": [
  {
   "cell_type": "markdown",
   "id": "28355543",
   "metadata": {},
   "source": [
    "#### Edited by Tombo H. ANDRIAMAHATANA"
   ]
  },
  {
   "cell_type": "code",
   "execution_count": 1,
   "id": "ff96b8aa",
   "metadata": {},
   "outputs": [],
   "source": [
    "import math\n",
    "import numpy as np\n",
    "import matplotlib.pyplot as plt\n",
    "import warnings\n",
    "warnings.filterwarnings(\"ignore\")\n",
    "from ipywidgets import interact"
   ]
  },
  {
   "cell_type": "code",
   "execution_count": 2,
   "id": "75d5d336",
   "metadata": {},
   "outputs": [],
   "source": [
    "# Fonction de tracé\n",
    "def plot_function(a, b, c):\n",
    "    x = np.linspace(-150, 150, 1000)\n",
    "    y = a * np.cos(x / 10) ** 2 + b * np.exp(x / 10) + c\n",
    "    # plot de f(x)\n",
    "    plt.plot(x, y)\n",
    "    plt.ylim(-10, 10)\n",
    "    plt.show()\n",
    "    # Les solutions de x\n",
    "    if b!=0 :\n",
    "        if (-c/b)>=0 and a!=0:\n",
    "            x = (math.log(-c/b)*10 if c != 0 else 0)\n",
    "            print(f\"f(x)=0 admet une(des) solution(s) pour x appartenant à ]-inf ; +inf]\")\n",
    "            print(\"Les solutions sont composées par :\")\n",
    "            if -c/a >= 0 and -c/a <= 1:\n",
    "                print(f\"- les solutions pour f(x)=a*cos²(x)+c=0 sur l'intervalle ]-inf ; {x}[ donc : x = ±{(math.acos(math.sqrt(-c/a)) if c!= 0 else 0)} + 2πn\")\n",
    "            if a>0:\n",
    "                print(f\"- les solutions pour f(x)=b*exp(x)+c=0 sur l'intervalle [{x} ; inf[ donc : x = {(x if c!=0 else math.log(-a/b)*10)}\")\n",
    "            elif a<0 and c!=0:\n",
    "                print(f\"- les solutions pour f(x)=b*exp(x)+c=0 sur l'intervalle [{x} ; inf[ donc : x = {(x)}\")\n",
    "            print(\"*** la valeur de n reste encore à déterminer ***\")\n",
    "        elif (-c/b)>=0 and c!=0 and a==0 :\n",
    "            x = math.log(-c/b)*10\n",
    "            print(f\"f(x)=0 admet une solution x=ln(-c/b) donc x = {x}\")\n",
    "        else:\n",
    "            print(f\"f(x)=0 n'a pas de solution pour les valeurs de c et b données.\")\n",
    "    else:\n",
    "        if a!=0:\n",
    "            if -c/a >= 0 and -c/a <= 1:\n",
    "                print(f\"f(x)=0 admet une solution x=arccos(racine(-c/a)) donc x = ±{math.acos(math.sqrt(-c/a))} + 2πn\")\n",
    "            else:\n",
    "                print(f\"f(x)=0 n'a pas de solution avec ces valeurs de a et c\")\n",
    "        elif a==0 :\n",
    "            print(f\"f(x)=0 admet une infinité de solution\")"
   ]
  },
  {
   "cell_type": "code",
   "execution_count": 3,
   "id": "f8b8b593",
   "metadata": {},
   "outputs": [
    {
     "data": {
      "application/vnd.jupyter.widget-view+json": {
       "model_id": "b768d654198a48ff920bf1bd4a76d0bd",
       "version_major": 2,
       "version_minor": 0
      },
      "text/plain": [
       "interactive(children=(IntSlider(value=0, description='a', max=20, min=-20), IntSlider(value=0, description='b'…"
      ]
     },
     "metadata": {},
     "output_type": "display_data"
    },
    {
     "data": {
      "text/plain": [
       "<function __main__.plot_function(a, b, c)>"
      ]
     },
     "execution_count": 3,
     "metadata": {},
     "output_type": "execute_result"
    }
   ],
   "source": [
    "# Création des curseurs interactifs\n",
    "interact(plot_function, a=(-20, 20, 1), b=(-20, 20, 1), c=(-20, 20, 1))"
   ]
  },
  {
   "cell_type": "markdown",
   "id": "1c3e386a",
   "metadata": {},
   "source": [
    "#### Edited by Tombo H. ANDRIAMAHATANA"
   ]
  }
 ],
 "metadata": {
  "kernelspec": {
   "display_name": "Python 3 (ipykernel)",
   "language": "python",
   "name": "python3"
  },
  "language_info": {
   "codemirror_mode": {
    "name": "ipython",
    "version": 3
   },
   "file_extension": ".py",
   "mimetype": "text/x-python",
   "name": "python",
   "nbconvert_exporter": "python",
   "pygments_lexer": "ipython3",
   "version": "3.11.5"
  }
 },
 "nbformat": 4,
 "nbformat_minor": 5
}
