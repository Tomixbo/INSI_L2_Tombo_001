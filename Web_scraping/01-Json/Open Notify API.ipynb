{
 "cells": [
  {
   "cell_type": "code",
   "execution_count": 2,
   "id": "7cd85983",
   "metadata": {},
   "outputs": [],
   "source": [
    "import requests"
   ]
  },
  {
   "cell_type": "code",
   "execution_count": 8,
   "id": "fff52a1b",
   "metadata": {},
   "outputs": [],
   "source": [
    "response = requests.get('http://api.open-notify.org/iss-now.json')"
   ]
  },
  {
   "cell_type": "code",
   "execution_count": 9,
   "id": "1a7a1128",
   "metadata": {},
   "outputs": [
    {
     "name": "stdout",
     "output_type": "stream",
     "text": [
      "{\"timestamp\": 1702986277, \"message\": \"success\", \"iss_position\": {\"longitude\": \"-150.4281\", \"latitude\": \"-20.3931\"}}\n"
     ]
    }
   ],
   "source": [
    "print(response.text)"
   ]
  },
  {
   "cell_type": "code",
   "execution_count": 10,
   "id": "d8c2a454",
   "metadata": {},
   "outputs": [],
   "source": [
    "parameters={\"latitude\":48.87,\"longitude\":2.83}"
   ]
  },
  {
   "cell_type": "code",
   "execution_count": 15,
   "id": "2f6d1fde",
   "metadata": {},
   "outputs": [
    {
     "name": "stdout",
     "output_type": "stream",
     "text": [
      "b'{\"timestamp\": 1702986277, \"message\": \"success\", \"iss_position\": {\"longitude\": \"-150.4281\", \"latitude\": \"-20.3931\"}}'\n"
     ]
    }
   ],
   "source": [
    "content = response.content\n",
    "print(content)"
   ]
  },
  {
   "cell_type": "code",
   "execution_count": 5,
   "id": "e3f9fac4",
   "metadata": {},
   "outputs": [],
   "source": [
    "import json"
   ]
  },
  {
   "cell_type": "code",
   "execution_count": 19,
   "id": "0cc6a57b",
   "metadata": {},
   "outputs": [],
   "source": [
    "obj = json.loads(response.content)"
   ]
  },
  {
   "cell_type": "code",
   "execution_count": 26,
   "id": "a118e2f8",
   "metadata": {},
   "outputs": [
    {
     "name": "stdout",
     "output_type": "stream",
     "text": [
      "{\n",
      "  \"timestamp\": 1702986277,\n",
      "  \"message\": \"success\",\n",
      "  \"iss_position\": {\n",
      "    \"longitude\": \"-150.4281\",\n",
      "    \"latitude\": \"-20.3931\"\n",
      "  }\n",
      "}\n"
     ]
    }
   ],
   "source": [
    "print(json.dumps(obj, indent=2))\n",
    "#dumps : T object python -> json chaine de caractère\n",
    "#loads : contraire de dumps = chaine de caractère -> Object Python"
   ]
  },
  {
   "cell_type": "code",
   "execution_count": 21,
   "id": "4e93491c",
   "metadata": {},
   "outputs": [
    {
     "name": "stdout",
     "output_type": "stream",
     "text": [
      "1702986277\n"
     ]
    }
   ],
   "source": [
    "print(obj['timestamp'])"
   ]
  },
  {
   "cell_type": "code",
   "execution_count": 24,
   "id": "6ec0022a",
   "metadata": {},
   "outputs": [
    {
     "name": "stdout",
     "output_type": "stream",
     "text": [
      "-150.4281 -20.3931\n"
     ]
    }
   ],
   "source": [
    "print (obj['iss_position']['longitude'], obj['iss_position']['latitude'])"
   ]
  },
  {
   "cell_type": "code",
   "execution_count": 4,
   "id": "2da7ee36",
   "metadata": {},
   "outputs": [],
   "source": [
    "astros = requests.get(\"http://api.open-notify.org/astros.json\")"
   ]
  },
  {
   "cell_type": "code",
   "execution_count": 7,
   "id": "f8c92937",
   "metadata": {},
   "outputs": [],
   "source": [
    "obj2=json.loads(astros.content)"
   ]
  },
  {
   "cell_type": "code",
   "execution_count": 10,
   "id": "2ddbb94c",
   "metadata": {},
   "outputs": [
    {
     "name": "stdout",
     "output_type": "stream",
     "text": [
      "7\n"
     ]
    }
   ],
   "source": [
    "print(obj2['number'])"
   ]
  },
  {
   "cell_type": "code",
   "execution_count": null,
   "id": "ace09b2b",
   "metadata": {},
   "outputs": [],
   "source": []
  }
 ],
 "metadata": {
  "kernelspec": {
   "display_name": "Python 3 (ipykernel)",
   "language": "python",
   "name": "python3"
  },
  "language_info": {
   "codemirror_mode": {
    "name": "ipython",
    "version": 3
   },
   "file_extension": ".py",
   "mimetype": "text/x-python",
   "name": "python",
   "nbconvert_exporter": "python",
   "pygments_lexer": "ipython3",
   "version": "3.11.5"
  }
 },
 "nbformat": 4,
 "nbformat_minor": 5
}
